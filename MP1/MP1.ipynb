{
 "cells": [
  {
   "cell_type": "code",
   "execution_count": 5,
   "metadata": {},
   "outputs": [],
   "source": [
    "from pyvis.network import Network\n",
    "import networkx as nx\n",
    "import numpy as np\n",
    "import scipy\n",
    "from matplotlib import pyplot as plt "
   ]
  },
  {
   "cell_type": "markdown",
   "metadata": {},
   "source": [
    "## Read Gene-Cell\n",
    "\n",
    "Data Source: https://www.cell.com/cell/fulltext/S0092-8674(18)30955-3?_returnURL=https%3A%2F%2Flinkinghub.elsevier.com%2Fretrieve%2Fpii%2FS0092867418309553%3Fshowall%3Dtrue"
   ]
  },
  {
   "cell_type": "code",
   "execution_count": 2,
   "metadata": {},
   "outputs": [],
   "source": [
    "from scipy import sparse, io\n",
    "\n",
    "RNA_seq_matrix = io.mmread(\"data/FC_data_LRcell.mm.txt\")"
   ]
  },
  {
   "cell_type": "code",
   "execution_count": 3,
   "metadata": {},
   "outputs": [
    {
     "name": "stdout",
     "output_type": "stream",
     "text": [
      "RNA_seq_matrix.shape:  (15976, 71639)\n",
      "Non-zero entry count=137124604 (11.98%)\n",
      "Entry analysis: min=0, max=1711, mean=0.251\n"
     ]
    }
   ],
   "source": [
    "print(\"RNA_seq_matrix.shape: \", RNA_seq_matrix.shape)\n",
    "print(\"Non-zero entry count=%d (%.2f%%)\" % (RNA_seq_matrix.getnnz(), \n",
    "      RNA_seq_matrix.getnnz()/RNA_seq_matrix.shape[0]/RNA_seq_matrix.shape[1]*100))\n",
    "print(\"Entry analysis: min=%d, max=%d, mean=%.3f\" % (RNA_seq_matrix.min(), \n",
    "                                                     RNA_seq_matrix.max(),\n",
    "                                                     RNA_seq_matrix.mean(),\n",
    "                                                    ))"
   ]
  },
  {
   "cell_type": "markdown",
   "metadata": {},
   "source": [
    "RNA_seq_matrix is a sparse matrix where each entry stores gene expression \"value\" for specific gene (row) and cell (column).\n",
    "The gene expression ranges from 0 to 1711, and the value is integer. \n",
    "Moreover, the data is reletively large scale and may contain noisy data, hence it is necessary to sample a subset for further analysis."
   ]
  },
  {
   "cell_type": "code",
   "execution_count": 8,
   "metadata": {},
   "outputs": [
    {
     "name": "stdout",
     "output_type": "stream",
     "text": [
      "cell_vec shape = (1, 71639)\n",
      "Entry analysis: min=611, max=73424, mean=4009.060, std=3355.501\n"
     ]
    }
   ],
   "source": [
    "# cell down-sampling\n",
    "cell_vec = RNA_seq_matrix.sum(0)\n",
    "print(\"cell_vec shape =\", cell_vec.shape)\n",
    "print(\"Entry analysis: min=%d, max=%d, mean=%.3f, std=%.3f\" % (cell_vec.min(), cell_vec.max(), \n",
    "                                                               cell_vec.mean(), cell_vec.std()))"
   ]
  },
  {
   "cell_type": "code",
   "execution_count": null,
   "metadata": {},
   "outputs": [],
   "source": [
    "# gene down-sampling"
   ]
  }
 ],
 "metadata": {
  "kernelspec": {
   "display_name": "Python 3",
   "language": "python",
   "name": "python3"
  },
  "language_info": {
   "codemirror_mode": {
    "name": "ipython",
    "version": 3
   },
   "file_extension": ".py",
   "mimetype": "text/x-python",
   "name": "python",
   "nbconvert_exporter": "python",
   "pygments_lexer": "ipython3",
   "version": "3.8.5"
  }
 },
 "nbformat": 4,
 "nbformat_minor": 4
}
